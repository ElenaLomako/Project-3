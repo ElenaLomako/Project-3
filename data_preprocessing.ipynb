{
 "cells": [
  {
   "cell_type": "code",
   "execution_count": 49,
   "id": "initial_id",
   "metadata": {
    "collapsed": true,
    "ExecuteTime": {
     "end_time": "2023-12-05T02:34:07.230642Z",
     "start_time": "2023-12-05T02:34:07.221853Z"
    }
   },
   "outputs": [],
   "source": [
    "# Dependencies\n",
    "import pandas as pd"
   ]
  },
  {
   "cell_type": "code",
   "execution_count": 50,
   "outputs": [],
   "source": [
    "# Import Data\n",
    "# Data retrieved from https://www.eia.gov/electricity/data.php\n",
    "# Provides electricity usage across all 50 states\n",
    "df = pd.read_excel('Resources/sales_annual_a.xlsx', header=2)\n",
    "\n",
    "# Concat State and year as ID\n",
    "df['Year'] = df['Year'].astype('string')\n",
    "df['id'] = df['STATE'].str.cat(df['Year'])"
   ],
   "metadata": {
    "collapsed": false,
    "ExecuteTime": {
     "end_time": "2023-12-05T02:34:07.322760Z",
     "start_time": "2023-12-05T02:34:07.226244Z"
    }
   },
   "id": "5d21a340ab9de61b"
  },
  {
   "cell_type": "code",
   "execution_count": 51,
   "outputs": [],
   "source": [
    "# Subset data\n",
    "df_keys = df[['id', 'Year', 'STATE']]\n",
    "df_residential = df[['id','Thousand Dollars', 'Megawatthours' , 'Count', 'Cents/kWh']]\n",
    "df_commercial = df[['id','Thousand Dollars.1', 'Megawatthours.1' , 'Count.1', 'Cents/kWh.1']]\n",
    "df_industrial = df[['id', 'Thousand Dollars.2', 'Megawatthours.2' , 'Count.2', 'Cents/kWh.2']]\n",
    "df_transportation = df[['id', 'Thousand Dollars.3', 'Megawatthours.3' , 'Count.3', 'Cents/kWh.3']]\n",
    "df_total = df[['id', 'Thousand Dollars.4', 'Megawatthours.4' , 'Count.4', 'Cents/kWh.4']]\n",
    "\n",
    "df_list = [df_residential, df_commercial, df_industrial, df_transportation, df_total]"
   ],
   "metadata": {
    "collapsed": false,
    "ExecuteTime": {
     "end_time": "2023-12-05T02:34:07.327630Z",
     "start_time": "2023-12-05T02:34:07.324706Z"
    }
   },
   "id": "75a5aa10288325c9"
  },
  {
   "cell_type": "code",
   "execution_count": 52,
   "outputs": [],
   "source": [
    "column_labels = ['id', 'revenue', 'sales', 'customers', 'price']\n",
    "\n",
    "for i in range(len(df_list)):\n",
    "    df_list[i].columns = column_labels"
   ],
   "metadata": {
    "collapsed": false,
    "ExecuteTime": {
     "end_time": "2023-12-05T02:34:07.332244Z",
     "start_time": "2023-12-05T02:34:07.327519Z"
    }
   },
   "id": "441332f39beeda84"
  },
  {
   "cell_type": "code",
   "execution_count": 53,
   "outputs": [],
   "source": [
    "# Export sub-setted data as CSV\n",
    "df_keys.to_csv('Resources/sales_annual_keys.csv', index = False)\n",
    "df_residential.to_csv('Resources/sales_annual_residential.csv', index = False)\n",
    "df_commercial.to_csv('Resources/sales_annual_commercial.csv', index = False)\n",
    "df_industrial.to_csv('Resources/sales_annual_industrial.csv', index = False)\n",
    "df_transportation.to_csv('Resources/sales_annual_transportation.csv', index = False)\n",
    "df_total.to_csv('Resources/sales.annual_total.csv', index = False)"
   ],
   "metadata": {
    "collapsed": false,
    "ExecuteTime": {
     "end_time": "2023-12-05T02:34:07.341641Z",
     "start_time": "2023-12-05T02:34:07.331167Z"
    }
   },
   "id": "703bb09fad48b39a"
  },
  {
   "cell_type": "code",
   "execution_count": 54,
   "outputs": [
    {
     "data": {
      "text/plain": "         id  Year STATE\n0    AK2021  2021    AK\n1    AL2021  2021    AL\n2    AR2021  2021    AR\n3    AZ2021  2021    AZ\n4    CA2021  2021    CA\n..      ...   ...   ...\n619  WA2010  2010    WA\n620  WI2010  2010    WI\n621  WV2010  2010    WV\n622  WY2010  2010    WY\n623  US2010  2010    US\n\n[624 rows x 3 columns]",
      "text/html": "<div>\n<style scoped>\n    .dataframe tbody tr th:only-of-type {\n        vertical-align: middle;\n    }\n\n    .dataframe tbody tr th {\n        vertical-align: top;\n    }\n\n    .dataframe thead th {\n        text-align: right;\n    }\n</style>\n<table border=\"1\" class=\"dataframe\">\n  <thead>\n    <tr style=\"text-align: right;\">\n      <th></th>\n      <th>id</th>\n      <th>Year</th>\n      <th>STATE</th>\n    </tr>\n  </thead>\n  <tbody>\n    <tr>\n      <th>0</th>\n      <td>AK2021</td>\n      <td>2021</td>\n      <td>AK</td>\n    </tr>\n    <tr>\n      <th>1</th>\n      <td>AL2021</td>\n      <td>2021</td>\n      <td>AL</td>\n    </tr>\n    <tr>\n      <th>2</th>\n      <td>AR2021</td>\n      <td>2021</td>\n      <td>AR</td>\n    </tr>\n    <tr>\n      <th>3</th>\n      <td>AZ2021</td>\n      <td>2021</td>\n      <td>AZ</td>\n    </tr>\n    <tr>\n      <th>4</th>\n      <td>CA2021</td>\n      <td>2021</td>\n      <td>CA</td>\n    </tr>\n    <tr>\n      <th>...</th>\n      <td>...</td>\n      <td>...</td>\n      <td>...</td>\n    </tr>\n    <tr>\n      <th>619</th>\n      <td>WA2010</td>\n      <td>2010</td>\n      <td>WA</td>\n    </tr>\n    <tr>\n      <th>620</th>\n      <td>WI2010</td>\n      <td>2010</td>\n      <td>WI</td>\n    </tr>\n    <tr>\n      <th>621</th>\n      <td>WV2010</td>\n      <td>2010</td>\n      <td>WV</td>\n    </tr>\n    <tr>\n      <th>622</th>\n      <td>WY2010</td>\n      <td>2010</td>\n      <td>WY</td>\n    </tr>\n    <tr>\n      <th>623</th>\n      <td>US2010</td>\n      <td>2010</td>\n      <td>US</td>\n    </tr>\n  </tbody>\n</table>\n<p>624 rows × 3 columns</p>\n</div>"
     },
     "execution_count": 54,
     "metadata": {},
     "output_type": "execute_result"
    }
   ],
   "source": [
    "# Preview\n",
    "df_keys"
   ],
   "metadata": {
    "collapsed": false,
    "ExecuteTime": {
     "end_time": "2023-12-05T02:34:07.347906Z",
     "start_time": "2023-12-05T02:34:07.343763Z"
    }
   },
   "id": "c5112124e6defb10"
  },
  {
   "cell_type": "code",
   "execution_count": 55,
   "outputs": [
    {
     "data": {
      "text/plain": "         id  revenue    sales  customers  price\n0    AK2021        0        0          0   0.00\n1    AL2021        0        0          0   0.00\n2    AR2021       28      205          2  13.56\n3    AZ2021      981    10515          2   9.33\n4    CA2021    73215   620799         12  11.79\n..      ...      ...      ...        ...    ...\n619  WA2010      516     6949          6   7.42\n620  WI2010        0        0          0   0.00\n621  WV2010      365     4380          1   8.33\n622  WY2010        0        0          0   0.00\n623  US2010   814346  7712412        239  10.56\n\n[624 rows x 5 columns]",
      "text/html": "<div>\n<style scoped>\n    .dataframe tbody tr th:only-of-type {\n        vertical-align: middle;\n    }\n\n    .dataframe tbody tr th {\n        vertical-align: top;\n    }\n\n    .dataframe thead th {\n        text-align: right;\n    }\n</style>\n<table border=\"1\" class=\"dataframe\">\n  <thead>\n    <tr style=\"text-align: right;\">\n      <th></th>\n      <th>id</th>\n      <th>revenue</th>\n      <th>sales</th>\n      <th>customers</th>\n      <th>price</th>\n    </tr>\n  </thead>\n  <tbody>\n    <tr>\n      <th>0</th>\n      <td>AK2021</td>\n      <td>0</td>\n      <td>0</td>\n      <td>0</td>\n      <td>0.00</td>\n    </tr>\n    <tr>\n      <th>1</th>\n      <td>AL2021</td>\n      <td>0</td>\n      <td>0</td>\n      <td>0</td>\n      <td>0.00</td>\n    </tr>\n    <tr>\n      <th>2</th>\n      <td>AR2021</td>\n      <td>28</td>\n      <td>205</td>\n      <td>2</td>\n      <td>13.56</td>\n    </tr>\n    <tr>\n      <th>3</th>\n      <td>AZ2021</td>\n      <td>981</td>\n      <td>10515</td>\n      <td>2</td>\n      <td>9.33</td>\n    </tr>\n    <tr>\n      <th>4</th>\n      <td>CA2021</td>\n      <td>73215</td>\n      <td>620799</td>\n      <td>12</td>\n      <td>11.79</td>\n    </tr>\n    <tr>\n      <th>...</th>\n      <td>...</td>\n      <td>...</td>\n      <td>...</td>\n      <td>...</td>\n      <td>...</td>\n    </tr>\n    <tr>\n      <th>619</th>\n      <td>WA2010</td>\n      <td>516</td>\n      <td>6949</td>\n      <td>6</td>\n      <td>7.42</td>\n    </tr>\n    <tr>\n      <th>620</th>\n      <td>WI2010</td>\n      <td>0</td>\n      <td>0</td>\n      <td>0</td>\n      <td>0.00</td>\n    </tr>\n    <tr>\n      <th>621</th>\n      <td>WV2010</td>\n      <td>365</td>\n      <td>4380</td>\n      <td>1</td>\n      <td>8.33</td>\n    </tr>\n    <tr>\n      <th>622</th>\n      <td>WY2010</td>\n      <td>0</td>\n      <td>0</td>\n      <td>0</td>\n      <td>0.00</td>\n    </tr>\n    <tr>\n      <th>623</th>\n      <td>US2010</td>\n      <td>814346</td>\n      <td>7712412</td>\n      <td>239</td>\n      <td>10.56</td>\n    </tr>\n  </tbody>\n</table>\n<p>624 rows × 5 columns</p>\n</div>"
     },
     "execution_count": 55,
     "metadata": {},
     "output_type": "execute_result"
    }
   ],
   "source": [
    "df_transportation"
   ],
   "metadata": {
    "collapsed": false,
    "ExecuteTime": {
     "end_time": "2023-12-05T02:34:07.352759Z",
     "start_time": "2023-12-05T02:34:07.346057Z"
    }
   },
   "id": "de2cfc4716e78e19"
  },
  {
   "cell_type": "code",
   "execution_count": 56,
   "outputs": [
    {
     "data": {
      "text/plain": "         id   revenue      sales  customers  price\n0    AK2021    223588    1326779       1135  16.85\n1    AL2021   2034105   32155730       7233   6.33\n2    AR2021   1196803   18228014      36628   6.57\n3    AZ2021    956213   14089072       7548   6.79\n4    CA2021   7050423   47583329     149389  14.82\n..      ...       ...        ...        ...    ...\n619  WA2010   1085311   26632814      27970   4.08\n620  WI2010   1606232   23451807       4496   6.85\n621  WV2010    681014   11622934      12348   5.86\n622  WY2010    501285   10069117       8933   4.98\n623  US2010  65772007  971221189     747747   6.77\n\n[624 rows x 5 columns]",
      "text/html": "<div>\n<style scoped>\n    .dataframe tbody tr th:only-of-type {\n        vertical-align: middle;\n    }\n\n    .dataframe tbody tr th {\n        vertical-align: top;\n    }\n\n    .dataframe thead th {\n        text-align: right;\n    }\n</style>\n<table border=\"1\" class=\"dataframe\">\n  <thead>\n    <tr style=\"text-align: right;\">\n      <th></th>\n      <th>id</th>\n      <th>revenue</th>\n      <th>sales</th>\n      <th>customers</th>\n      <th>price</th>\n    </tr>\n  </thead>\n  <tbody>\n    <tr>\n      <th>0</th>\n      <td>AK2021</td>\n      <td>223588</td>\n      <td>1326779</td>\n      <td>1135</td>\n      <td>16.85</td>\n    </tr>\n    <tr>\n      <th>1</th>\n      <td>AL2021</td>\n      <td>2034105</td>\n      <td>32155730</td>\n      <td>7233</td>\n      <td>6.33</td>\n    </tr>\n    <tr>\n      <th>2</th>\n      <td>AR2021</td>\n      <td>1196803</td>\n      <td>18228014</td>\n      <td>36628</td>\n      <td>6.57</td>\n    </tr>\n    <tr>\n      <th>3</th>\n      <td>AZ2021</td>\n      <td>956213</td>\n      <td>14089072</td>\n      <td>7548</td>\n      <td>6.79</td>\n    </tr>\n    <tr>\n      <th>4</th>\n      <td>CA2021</td>\n      <td>7050423</td>\n      <td>47583329</td>\n      <td>149389</td>\n      <td>14.82</td>\n    </tr>\n    <tr>\n      <th>...</th>\n      <td>...</td>\n      <td>...</td>\n      <td>...</td>\n      <td>...</td>\n      <td>...</td>\n    </tr>\n    <tr>\n      <th>619</th>\n      <td>WA2010</td>\n      <td>1085311</td>\n      <td>26632814</td>\n      <td>27970</td>\n      <td>4.08</td>\n    </tr>\n    <tr>\n      <th>620</th>\n      <td>WI2010</td>\n      <td>1606232</td>\n      <td>23451807</td>\n      <td>4496</td>\n      <td>6.85</td>\n    </tr>\n    <tr>\n      <th>621</th>\n      <td>WV2010</td>\n      <td>681014</td>\n      <td>11622934</td>\n      <td>12348</td>\n      <td>5.86</td>\n    </tr>\n    <tr>\n      <th>622</th>\n      <td>WY2010</td>\n      <td>501285</td>\n      <td>10069117</td>\n      <td>8933</td>\n      <td>4.98</td>\n    </tr>\n    <tr>\n      <th>623</th>\n      <td>US2010</td>\n      <td>65772007</td>\n      <td>971221189</td>\n      <td>747747</td>\n      <td>6.77</td>\n    </tr>\n  </tbody>\n</table>\n<p>624 rows × 5 columns</p>\n</div>"
     },
     "execution_count": 56,
     "metadata": {},
     "output_type": "execute_result"
    }
   ],
   "source": [
    "df_industrial"
   ],
   "metadata": {
    "collapsed": false,
    "ExecuteTime": {
     "end_time": "2023-12-05T02:34:07.357139Z",
     "start_time": "2023-12-05T02:34:07.353112Z"
    }
   },
   "id": "f1ac0359adbb6ca3"
  },
  {
   "cell_type": "code",
   "execution_count": 56,
   "outputs": [],
   "source": [],
   "metadata": {
    "collapsed": false,
    "ExecuteTime": {
     "end_time": "2023-12-05T02:34:07.357229Z",
     "start_time": "2023-12-05T02:34:07.355249Z"
    }
   },
   "id": "71506ca0c28fb439"
  }
 ],
 "metadata": {
  "kernelspec": {
   "display_name": "Python 3",
   "language": "python",
   "name": "python3"
  },
  "language_info": {
   "codemirror_mode": {
    "name": "ipython",
    "version": 2
   },
   "file_extension": ".py",
   "mimetype": "text/x-python",
   "name": "python",
   "nbconvert_exporter": "python",
   "pygments_lexer": "ipython2",
   "version": "2.7.6"
  }
 },
 "nbformat": 4,
 "nbformat_minor": 5
}
