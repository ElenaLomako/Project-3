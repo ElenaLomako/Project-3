{
 "cells": [
  {
   "cell_type": "code",
   "execution_count": 2,
   "id": "initial_id",
   "metadata": {
    "collapsed": true,
    "ExecuteTime": {
     "end_time": "2023-12-01T02:48:10.155031Z",
     "start_time": "2023-12-01T02:48:09.372973Z"
    }
   },
   "outputs": [],
   "source": [
    "# Dependencies\n",
    "import pandas as pd"
   ]
  },
  {
   "cell_type": "code",
   "execution_count": 14,
   "outputs": [],
   "source": [
    "# Import Data\n",
    "# Data retrieved from https://www.eia.gov/electricity/data.php\n",
    "# Provides electricity usage across all 50 states\n",
    "df = pd.read_excel('/Resources/sales_annual_a.xlsx', header=2)\n",
    "\n",
    "# Isolate \"Totals\" column\n",
    "df = df.iloc[:,0:6]"
   ],
   "metadata": {
    "collapsed": false,
    "ExecuteTime": {
     "end_time": "2023-12-01T02:53:01.140275Z",
     "start_time": "2023-12-01T02:53:01.038635Z"
    }
   },
   "id": "5d21a340ab9de61b"
  },
  {
   "cell_type": "code",
   "execution_count": 15,
   "outputs": [
    {
     "name": "stdout",
     "output_type": "stream",
     "text": [
      "<class 'pandas.core.frame.DataFrame'>\n",
      "RangeIndex: 624 entries, 0 to 623\n",
      "Data columns (total 6 columns):\n",
      " #   Column            Non-Null Count  Dtype  \n",
      "---  ------            --------------  -----  \n",
      " 0   Year              624 non-null    int64  \n",
      " 1   STATE             624 non-null    object \n",
      " 2   Thousand Dollars  624 non-null    int64  \n",
      " 3   Megawatthours     624 non-null    int64  \n",
      " 4   Count             624 non-null    int64  \n",
      " 5   Cents/kWh         624 non-null    float64\n",
      "dtypes: float64(1), int64(4), object(1)\n",
      "memory usage: 29.4+ KB\n"
     ]
    }
   ],
   "source": [
    "# Preview data\n",
    "df.info()"
   ],
   "metadata": {
    "collapsed": false,
    "ExecuteTime": {
     "end_time": "2023-12-01T02:53:02.212496Z",
     "start_time": "2023-12-01T02:53:02.206341Z"
    }
   },
   "id": "75a5aa10288325c9"
  },
  {
   "cell_type": "code",
   "execution_count": 16,
   "outputs": [],
   "source": [
    "# Export sub-setted data as CSV\n",
    "df.to_csv('Resources/sales_annual_residential.csv')"
   ],
   "metadata": {
    "collapsed": false,
    "ExecuteTime": {
     "end_time": "2023-12-01T02:54:38.645189Z",
     "start_time": "2023-12-01T02:54:38.629813Z"
    }
   },
   "id": "703bb09fad48b39a"
  }
 ],
 "metadata": {
  "kernelspec": {
   "display_name": "Python 3",
   "language": "python",
   "name": "python3"
  },
  "language_info": {
   "codemirror_mode": {
    "name": "ipython",
    "version": 2
   },
   "file_extension": ".py",
   "mimetype": "text/x-python",
   "name": "python",
   "nbconvert_exporter": "python",
   "pygments_lexer": "ipython2",
   "version": "2.7.6"
  }
 },
 "nbformat": 4,
 "nbformat_minor": 5
}
