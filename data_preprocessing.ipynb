{
 "cells": [
  {
   "cell_type": "code",
   "execution_count": 3,
   "id": "initial_id",
   "metadata": {
    "collapsed": true,
    "ExecuteTime": {
     "end_time": "2023-12-05T00:39:55.048003Z",
     "start_time": "2023-12-05T00:39:54.228047Z"
    }
   },
   "outputs": [],
   "source": [
    "# Dependencies\n",
    "import pandas as pd"
   ]
  },
  {
   "cell_type": "code",
   "execution_count": 19,
   "outputs": [
    {
     "data": {
      "text/plain": "     Year STATE  Thousand Dollars  Megawatthours      Count  Cents/kWh  \\\n0    2021    AK            469886        2083911     292451      22.55   \n1    2021    AL           4092368       31585153    2308226      12.96   \n2    2021    AR           2131723       18918015    1436246      11.27   \n3    2021    AZ           4655903       37130339    2953823      12.54   \n4    2021    CA          20604392       90284143   13883994      22.82   \n..    ...   ...               ...            ...        ...        ...   \n619  2010    WA           2805591       34906926    2825281       8.04   \n620  2010    WI           2820621       22299493    2594698      12.65   \n621  2010    WV           1094174       12442583     867948       8.79   \n622  2010    WY            239198        2727201     257447       8.77   \n623  2010    US         166778041     1445708403  125717935      11.54   \n\n     Thousand Dollars.1  Megawatthours.1   Count.1  Cents/kWh.1  ...  \\\n0                501658          2558649     56005        19.61  ...   \n1               2586968         21844283    376180        11.84  ...   \n2               1101412         11516908    201408         9.56  ...   \n3               3098754         29990064    335377        10.33  ...   \n4              20861069        108761594   1750923        19.18  ...   \n..                  ...              ...       ...          ...  ...   \n619             2125160         28833281    353330         7.37  ...   \n620             2296381         23001117    338406         9.98  ...   \n621              610027          7961906    137209         7.66  ...   \n622              320135          4317140     59642         7.42  ...   \n623           135553746       1330199364  17674338        10.19  ...   \n\n     Cents/kWh.2  Thousand Dollars.3  Megawatthours.3  Count.3  Cents/kWh.3  \\\n0          16.85                   0                0        0         0.00   \n1           6.33                   0                0        0         0.00   \n2           6.57                  28              205        2        13.56   \n3           6.79                 981            10515        2         9.33   \n4          14.82               73215           620799       12        11.79   \n..           ...                 ...              ...      ...          ...   \n619         4.08                 516             6949        6         7.42   \n620         6.85                   0                0        0         0.00   \n621         5.86                 365             4380        1         8.33   \n622         4.98                   0                0        0         0.00   \n623         6.77              814346          7712412      239        10.56   \n\n     Thousand Dollars.4  Megawatthours.4    Count.4  Cents/kWh.4      id  \n0               1195132          5969339     349591        20.02  AK2021  \n1               8713442         85585166    2691639        10.18  AL2021  \n2               4429965         48663142    1674284         9.10  AR2021  \n3               8711850         81219990    3296750        10.73  AZ2021  \n4              48589099        247249865   15784318        19.65  CA2021  \n..                  ...              ...        ...          ...     ...  \n619             6016578         90379970    3206587         6.66  WA2010  \n620             6723234         68752417    2937600         9.78  WI2010  \n621             2385580         32031803    1017506         7.45  WV2010  \n622             1060618         17113458     326022         6.20  WY2010  \n623           368918140       3754841368  144140259         9.83  US2010  \n\n[624 rows x 23 columns]",
      "text/html": "<div>\n<style scoped>\n    .dataframe tbody tr th:only-of-type {\n        vertical-align: middle;\n    }\n\n    .dataframe tbody tr th {\n        vertical-align: top;\n    }\n\n    .dataframe thead th {\n        text-align: right;\n    }\n</style>\n<table border=\"1\" class=\"dataframe\">\n  <thead>\n    <tr style=\"text-align: right;\">\n      <th></th>\n      <th>Year</th>\n      <th>STATE</th>\n      <th>Thousand Dollars</th>\n      <th>Megawatthours</th>\n      <th>Count</th>\n      <th>Cents/kWh</th>\n      <th>Thousand Dollars.1</th>\n      <th>Megawatthours.1</th>\n      <th>Count.1</th>\n      <th>Cents/kWh.1</th>\n      <th>...</th>\n      <th>Cents/kWh.2</th>\n      <th>Thousand Dollars.3</th>\n      <th>Megawatthours.3</th>\n      <th>Count.3</th>\n      <th>Cents/kWh.3</th>\n      <th>Thousand Dollars.4</th>\n      <th>Megawatthours.4</th>\n      <th>Count.4</th>\n      <th>Cents/kWh.4</th>\n      <th>id</th>\n    </tr>\n  </thead>\n  <tbody>\n    <tr>\n      <th>0</th>\n      <td>2021</td>\n      <td>AK</td>\n      <td>469886</td>\n      <td>2083911</td>\n      <td>292451</td>\n      <td>22.55</td>\n      <td>501658</td>\n      <td>2558649</td>\n      <td>56005</td>\n      <td>19.61</td>\n      <td>...</td>\n      <td>16.85</td>\n      <td>0</td>\n      <td>0</td>\n      <td>0</td>\n      <td>0.00</td>\n      <td>1195132</td>\n      <td>5969339</td>\n      <td>349591</td>\n      <td>20.02</td>\n      <td>AK2021</td>\n    </tr>\n    <tr>\n      <th>1</th>\n      <td>2021</td>\n      <td>AL</td>\n      <td>4092368</td>\n      <td>31585153</td>\n      <td>2308226</td>\n      <td>12.96</td>\n      <td>2586968</td>\n      <td>21844283</td>\n      <td>376180</td>\n      <td>11.84</td>\n      <td>...</td>\n      <td>6.33</td>\n      <td>0</td>\n      <td>0</td>\n      <td>0</td>\n      <td>0.00</td>\n      <td>8713442</td>\n      <td>85585166</td>\n      <td>2691639</td>\n      <td>10.18</td>\n      <td>AL2021</td>\n    </tr>\n    <tr>\n      <th>2</th>\n      <td>2021</td>\n      <td>AR</td>\n      <td>2131723</td>\n      <td>18918015</td>\n      <td>1436246</td>\n      <td>11.27</td>\n      <td>1101412</td>\n      <td>11516908</td>\n      <td>201408</td>\n      <td>9.56</td>\n      <td>...</td>\n      <td>6.57</td>\n      <td>28</td>\n      <td>205</td>\n      <td>2</td>\n      <td>13.56</td>\n      <td>4429965</td>\n      <td>48663142</td>\n      <td>1674284</td>\n      <td>9.10</td>\n      <td>AR2021</td>\n    </tr>\n    <tr>\n      <th>3</th>\n      <td>2021</td>\n      <td>AZ</td>\n      <td>4655903</td>\n      <td>37130339</td>\n      <td>2953823</td>\n      <td>12.54</td>\n      <td>3098754</td>\n      <td>29990064</td>\n      <td>335377</td>\n      <td>10.33</td>\n      <td>...</td>\n      <td>6.79</td>\n      <td>981</td>\n      <td>10515</td>\n      <td>2</td>\n      <td>9.33</td>\n      <td>8711850</td>\n      <td>81219990</td>\n      <td>3296750</td>\n      <td>10.73</td>\n      <td>AZ2021</td>\n    </tr>\n    <tr>\n      <th>4</th>\n      <td>2021</td>\n      <td>CA</td>\n      <td>20604392</td>\n      <td>90284143</td>\n      <td>13883994</td>\n      <td>22.82</td>\n      <td>20861069</td>\n      <td>108761594</td>\n      <td>1750923</td>\n      <td>19.18</td>\n      <td>...</td>\n      <td>14.82</td>\n      <td>73215</td>\n      <td>620799</td>\n      <td>12</td>\n      <td>11.79</td>\n      <td>48589099</td>\n      <td>247249865</td>\n      <td>15784318</td>\n      <td>19.65</td>\n      <td>CA2021</td>\n    </tr>\n    <tr>\n      <th>...</th>\n      <td>...</td>\n      <td>...</td>\n      <td>...</td>\n      <td>...</td>\n      <td>...</td>\n      <td>...</td>\n      <td>...</td>\n      <td>...</td>\n      <td>...</td>\n      <td>...</td>\n      <td>...</td>\n      <td>...</td>\n      <td>...</td>\n      <td>...</td>\n      <td>...</td>\n      <td>...</td>\n      <td>...</td>\n      <td>...</td>\n      <td>...</td>\n      <td>...</td>\n      <td>...</td>\n    </tr>\n    <tr>\n      <th>619</th>\n      <td>2010</td>\n      <td>WA</td>\n      <td>2805591</td>\n      <td>34906926</td>\n      <td>2825281</td>\n      <td>8.04</td>\n      <td>2125160</td>\n      <td>28833281</td>\n      <td>353330</td>\n      <td>7.37</td>\n      <td>...</td>\n      <td>4.08</td>\n      <td>516</td>\n      <td>6949</td>\n      <td>6</td>\n      <td>7.42</td>\n      <td>6016578</td>\n      <td>90379970</td>\n      <td>3206587</td>\n      <td>6.66</td>\n      <td>WA2010</td>\n    </tr>\n    <tr>\n      <th>620</th>\n      <td>2010</td>\n      <td>WI</td>\n      <td>2820621</td>\n      <td>22299493</td>\n      <td>2594698</td>\n      <td>12.65</td>\n      <td>2296381</td>\n      <td>23001117</td>\n      <td>338406</td>\n      <td>9.98</td>\n      <td>...</td>\n      <td>6.85</td>\n      <td>0</td>\n      <td>0</td>\n      <td>0</td>\n      <td>0.00</td>\n      <td>6723234</td>\n      <td>68752417</td>\n      <td>2937600</td>\n      <td>9.78</td>\n      <td>WI2010</td>\n    </tr>\n    <tr>\n      <th>621</th>\n      <td>2010</td>\n      <td>WV</td>\n      <td>1094174</td>\n      <td>12442583</td>\n      <td>867948</td>\n      <td>8.79</td>\n      <td>610027</td>\n      <td>7961906</td>\n      <td>137209</td>\n      <td>7.66</td>\n      <td>...</td>\n      <td>5.86</td>\n      <td>365</td>\n      <td>4380</td>\n      <td>1</td>\n      <td>8.33</td>\n      <td>2385580</td>\n      <td>32031803</td>\n      <td>1017506</td>\n      <td>7.45</td>\n      <td>WV2010</td>\n    </tr>\n    <tr>\n      <th>622</th>\n      <td>2010</td>\n      <td>WY</td>\n      <td>239198</td>\n      <td>2727201</td>\n      <td>257447</td>\n      <td>8.77</td>\n      <td>320135</td>\n      <td>4317140</td>\n      <td>59642</td>\n      <td>7.42</td>\n      <td>...</td>\n      <td>4.98</td>\n      <td>0</td>\n      <td>0</td>\n      <td>0</td>\n      <td>0.00</td>\n      <td>1060618</td>\n      <td>17113458</td>\n      <td>326022</td>\n      <td>6.20</td>\n      <td>WY2010</td>\n    </tr>\n    <tr>\n      <th>623</th>\n      <td>2010</td>\n      <td>US</td>\n      <td>166778041</td>\n      <td>1445708403</td>\n      <td>125717935</td>\n      <td>11.54</td>\n      <td>135553746</td>\n      <td>1330199364</td>\n      <td>17674338</td>\n      <td>10.19</td>\n      <td>...</td>\n      <td>6.77</td>\n      <td>814346</td>\n      <td>7712412</td>\n      <td>239</td>\n      <td>10.56</td>\n      <td>368918140</td>\n      <td>3754841368</td>\n      <td>144140259</td>\n      <td>9.83</td>\n      <td>US2010</td>\n    </tr>\n  </tbody>\n</table>\n<p>624 rows × 23 columns</p>\n</div>"
     },
     "execution_count": 19,
     "metadata": {},
     "output_type": "execute_result"
    }
   ],
   "source": [
    "# Import Data\n",
    "# Data retrieved from https://www.eia.gov/electricity/data.php\n",
    "# Provides electricity usage across all 50 states\n",
    "df = pd.read_excel('Resources/sales_annual_a.xlsx', header=2)\n",
    "\n",
    "# Concat State and year as ID\n",
    "df['Year'] = df['Year'].astype('string')\n",
    "df['id'] = df['STATE'].str.cat(df['Year'])"
   ],
   "metadata": {
    "collapsed": false,
    "ExecuteTime": {
     "end_time": "2023-12-05T01:38:23.570888Z",
     "start_time": "2023-12-05T01:38:23.460326Z"
    }
   },
   "id": "5d21a340ab9de61b"
  },
  {
   "cell_type": "code",
   "execution_count": 30,
   "outputs": [],
   "source": [
    "# Subset data\n",
    "df_keys = df[['id', 'Year', 'STATE']]\n",
    "df_residential = df[['id','Thousand Dollars', 'Megawatthours' , 'Count', 'Cents/kWh']]\n",
    "df_commercial = df[['id','Thousand Dollars.1', 'Megawatthours.1' , 'Count.1', 'Cents/kWh.1']]\n",
    "df_industrial = df[['id', 'Thousand Dollars.2', 'Megawatthours.2' , 'Count.2', 'Cents/kWh.2']]\n",
    "df_transportation = df[['id', 'Thousand Dollars.3', 'Megawatthours.3' , 'Count.3', 'Cents/kWh.3']]\n",
    "df_total = df[['id', 'Thousand Dollars.4', 'Megawatthours.4' , 'Count.4', 'Cents/kWh.4']]\n",
    "\n",
    "df_list = [df_residential, df_commercial, df_industrial, df_transportation, df_total]"
   ],
   "metadata": {
    "collapsed": false,
    "ExecuteTime": {
     "end_time": "2023-12-05T02:09:46.712724Z",
     "start_time": "2023-12-05T02:09:46.709358Z"
    }
   },
   "id": "75a5aa10288325c9"
  },
  {
   "cell_type": "code",
   "execution_count": 31,
   "outputs": [],
   "source": [
    "column_labels = ['id', 'revenue', 'sales', 'customers', 'price']\n",
    "\n",
    "for i in range(len(df_list)):\n",
    "    df_list[i].columns = column_labels"
   ],
   "metadata": {
    "collapsed": false,
    "ExecuteTime": {
     "end_time": "2023-12-05T02:09:47.072803Z",
     "start_time": "2023-12-05T02:09:47.068345Z"
    }
   },
   "id": "441332f39beeda84"
  },
  {
   "cell_type": "code",
   "execution_count": 35,
   "outputs": [],
   "source": [
    "# Export sub-setted data as CSV\n",
    "df_keys.to_csv('Resources/sales_annual_keys.csv')\n",
    "df_residential.to_csv('Resources/sales_annual_residential.csv')\n",
    "df_commercial.to_csv('Resources/sales_annual_commercial.csv')\n",
    "df_industrial.to_csv('Resources/sales_annual_industrial.csv')\n",
    "df_transportation.to_csv('Resources/sales_annual_transportation.csv')\n",
    "df_total.to_csv('Resources/sales.annual_total.csv')"
   ],
   "metadata": {
    "collapsed": false,
    "ExecuteTime": {
     "end_time": "2023-12-05T02:11:00.924338Z",
     "start_time": "2023-12-05T02:11:00.913422Z"
    }
   },
   "id": "703bb09fad48b39a"
  },
  {
   "cell_type": "code",
   "execution_count": 27,
   "outputs": [
    {
     "data": {
      "text/plain": "         id  Year STATE\n0    AK2021  2021    AK\n1    AL2021  2021    AL\n2    AR2021  2021    AR\n3    AZ2021  2021    AZ\n4    CA2021  2021    CA\n..      ...   ...   ...\n619  WA2010  2010    WA\n620  WI2010  2010    WI\n621  WV2010  2010    WV\n622  WY2010  2010    WY\n623  US2010  2010    US\n\n[624 rows x 3 columns]",
      "text/html": "<div>\n<style scoped>\n    .dataframe tbody tr th:only-of-type {\n        vertical-align: middle;\n    }\n\n    .dataframe tbody tr th {\n        vertical-align: top;\n    }\n\n    .dataframe thead th {\n        text-align: right;\n    }\n</style>\n<table border=\"1\" class=\"dataframe\">\n  <thead>\n    <tr style=\"text-align: right;\">\n      <th></th>\n      <th>id</th>\n      <th>Year</th>\n      <th>STATE</th>\n    </tr>\n  </thead>\n  <tbody>\n    <tr>\n      <th>0</th>\n      <td>AK2021</td>\n      <td>2021</td>\n      <td>AK</td>\n    </tr>\n    <tr>\n      <th>1</th>\n      <td>AL2021</td>\n      <td>2021</td>\n      <td>AL</td>\n    </tr>\n    <tr>\n      <th>2</th>\n      <td>AR2021</td>\n      <td>2021</td>\n      <td>AR</td>\n    </tr>\n    <tr>\n      <th>3</th>\n      <td>AZ2021</td>\n      <td>2021</td>\n      <td>AZ</td>\n    </tr>\n    <tr>\n      <th>4</th>\n      <td>CA2021</td>\n      <td>2021</td>\n      <td>CA</td>\n    </tr>\n    <tr>\n      <th>...</th>\n      <td>...</td>\n      <td>...</td>\n      <td>...</td>\n    </tr>\n    <tr>\n      <th>619</th>\n      <td>WA2010</td>\n      <td>2010</td>\n      <td>WA</td>\n    </tr>\n    <tr>\n      <th>620</th>\n      <td>WI2010</td>\n      <td>2010</td>\n      <td>WI</td>\n    </tr>\n    <tr>\n      <th>621</th>\n      <td>WV2010</td>\n      <td>2010</td>\n      <td>WV</td>\n    </tr>\n    <tr>\n      <th>622</th>\n      <td>WY2010</td>\n      <td>2010</td>\n      <td>WY</td>\n    </tr>\n    <tr>\n      <th>623</th>\n      <td>US2010</td>\n      <td>2010</td>\n      <td>US</td>\n    </tr>\n  </tbody>\n</table>\n<p>624 rows × 3 columns</p>\n</div>"
     },
     "execution_count": 27,
     "metadata": {},
     "output_type": "execute_result"
    }
   ],
   "source": [
    "# Preview\n",
    "df_keys"
   ],
   "metadata": {
    "collapsed": false,
    "ExecuteTime": {
     "end_time": "2023-12-05T01:58:33.315388Z",
     "start_time": "2023-12-05T01:58:33.309815Z"
    }
   },
   "id": "c5112124e6defb10"
  },
  {
   "cell_type": "code",
   "execution_count": 32,
   "outputs": [
    {
     "data": {
      "text/plain": "         id  revenue    sales  customers  price\n0    AK2021        0        0          0   0.00\n1    AL2021        0        0          0   0.00\n2    AR2021       28      205          2  13.56\n3    AZ2021      981    10515          2   9.33\n4    CA2021    73215   620799         12  11.79\n..      ...      ...      ...        ...    ...\n619  WA2010      516     6949          6   7.42\n620  WI2010        0        0          0   0.00\n621  WV2010      365     4380          1   8.33\n622  WY2010        0        0          0   0.00\n623  US2010   814346  7712412        239  10.56\n\n[624 rows x 5 columns]",
      "text/html": "<div>\n<style scoped>\n    .dataframe tbody tr th:only-of-type {\n        vertical-align: middle;\n    }\n\n    .dataframe tbody tr th {\n        vertical-align: top;\n    }\n\n    .dataframe thead th {\n        text-align: right;\n    }\n</style>\n<table border=\"1\" class=\"dataframe\">\n  <thead>\n    <tr style=\"text-align: right;\">\n      <th></th>\n      <th>id</th>\n      <th>revenue</th>\n      <th>sales</th>\n      <th>customers</th>\n      <th>price</th>\n    </tr>\n  </thead>\n  <tbody>\n    <tr>\n      <th>0</th>\n      <td>AK2021</td>\n      <td>0</td>\n      <td>0</td>\n      <td>0</td>\n      <td>0.00</td>\n    </tr>\n    <tr>\n      <th>1</th>\n      <td>AL2021</td>\n      <td>0</td>\n      <td>0</td>\n      <td>0</td>\n      <td>0.00</td>\n    </tr>\n    <tr>\n      <th>2</th>\n      <td>AR2021</td>\n      <td>28</td>\n      <td>205</td>\n      <td>2</td>\n      <td>13.56</td>\n    </tr>\n    <tr>\n      <th>3</th>\n      <td>AZ2021</td>\n      <td>981</td>\n      <td>10515</td>\n      <td>2</td>\n      <td>9.33</td>\n    </tr>\n    <tr>\n      <th>4</th>\n      <td>CA2021</td>\n      <td>73215</td>\n      <td>620799</td>\n      <td>12</td>\n      <td>11.79</td>\n    </tr>\n    <tr>\n      <th>...</th>\n      <td>...</td>\n      <td>...</td>\n      <td>...</td>\n      <td>...</td>\n      <td>...</td>\n    </tr>\n    <tr>\n      <th>619</th>\n      <td>WA2010</td>\n      <td>516</td>\n      <td>6949</td>\n      <td>6</td>\n      <td>7.42</td>\n    </tr>\n    <tr>\n      <th>620</th>\n      <td>WI2010</td>\n      <td>0</td>\n      <td>0</td>\n      <td>0</td>\n      <td>0.00</td>\n    </tr>\n    <tr>\n      <th>621</th>\n      <td>WV2010</td>\n      <td>365</td>\n      <td>4380</td>\n      <td>1</td>\n      <td>8.33</td>\n    </tr>\n    <tr>\n      <th>622</th>\n      <td>WY2010</td>\n      <td>0</td>\n      <td>0</td>\n      <td>0</td>\n      <td>0.00</td>\n    </tr>\n    <tr>\n      <th>623</th>\n      <td>US2010</td>\n      <td>814346</td>\n      <td>7712412</td>\n      <td>239</td>\n      <td>10.56</td>\n    </tr>\n  </tbody>\n</table>\n<p>624 rows × 5 columns</p>\n</div>"
     },
     "execution_count": 32,
     "metadata": {},
     "output_type": "execute_result"
    }
   ],
   "source": [
    "df_transportation"
   ],
   "metadata": {
    "collapsed": false,
    "ExecuteTime": {
     "end_time": "2023-12-05T02:09:52.899712Z",
     "start_time": "2023-12-05T02:09:52.894309Z"
    }
   },
   "id": "de2cfc4716e78e19"
  },
  {
   "cell_type": "code",
   "execution_count": 34,
   "outputs": [
    {
     "data": {
      "text/plain": "         id   revenue      sales  customers  price\n0    AK2021    223588    1326779       1135  16.85\n1    AL2021   2034105   32155730       7233   6.33\n2    AR2021   1196803   18228014      36628   6.57\n3    AZ2021    956213   14089072       7548   6.79\n4    CA2021   7050423   47583329     149389  14.82\n..      ...       ...        ...        ...    ...\n619  WA2010   1085311   26632814      27970   4.08\n620  WI2010   1606232   23451807       4496   6.85\n621  WV2010    681014   11622934      12348   5.86\n622  WY2010    501285   10069117       8933   4.98\n623  US2010  65772007  971221189     747747   6.77\n\n[624 rows x 5 columns]",
      "text/html": "<div>\n<style scoped>\n    .dataframe tbody tr th:only-of-type {\n        vertical-align: middle;\n    }\n\n    .dataframe tbody tr th {\n        vertical-align: top;\n    }\n\n    .dataframe thead th {\n        text-align: right;\n    }\n</style>\n<table border=\"1\" class=\"dataframe\">\n  <thead>\n    <tr style=\"text-align: right;\">\n      <th></th>\n      <th>id</th>\n      <th>revenue</th>\n      <th>sales</th>\n      <th>customers</th>\n      <th>price</th>\n    </tr>\n  </thead>\n  <tbody>\n    <tr>\n      <th>0</th>\n      <td>AK2021</td>\n      <td>223588</td>\n      <td>1326779</td>\n      <td>1135</td>\n      <td>16.85</td>\n    </tr>\n    <tr>\n      <th>1</th>\n      <td>AL2021</td>\n      <td>2034105</td>\n      <td>32155730</td>\n      <td>7233</td>\n      <td>6.33</td>\n    </tr>\n    <tr>\n      <th>2</th>\n      <td>AR2021</td>\n      <td>1196803</td>\n      <td>18228014</td>\n      <td>36628</td>\n      <td>6.57</td>\n    </tr>\n    <tr>\n      <th>3</th>\n      <td>AZ2021</td>\n      <td>956213</td>\n      <td>14089072</td>\n      <td>7548</td>\n      <td>6.79</td>\n    </tr>\n    <tr>\n      <th>4</th>\n      <td>CA2021</td>\n      <td>7050423</td>\n      <td>47583329</td>\n      <td>149389</td>\n      <td>14.82</td>\n    </tr>\n    <tr>\n      <th>...</th>\n      <td>...</td>\n      <td>...</td>\n      <td>...</td>\n      <td>...</td>\n      <td>...</td>\n    </tr>\n    <tr>\n      <th>619</th>\n      <td>WA2010</td>\n      <td>1085311</td>\n      <td>26632814</td>\n      <td>27970</td>\n      <td>4.08</td>\n    </tr>\n    <tr>\n      <th>620</th>\n      <td>WI2010</td>\n      <td>1606232</td>\n      <td>23451807</td>\n      <td>4496</td>\n      <td>6.85</td>\n    </tr>\n    <tr>\n      <th>621</th>\n      <td>WV2010</td>\n      <td>681014</td>\n      <td>11622934</td>\n      <td>12348</td>\n      <td>5.86</td>\n    </tr>\n    <tr>\n      <th>622</th>\n      <td>WY2010</td>\n      <td>501285</td>\n      <td>10069117</td>\n      <td>8933</td>\n      <td>4.98</td>\n    </tr>\n    <tr>\n      <th>623</th>\n      <td>US2010</td>\n      <td>65772007</td>\n      <td>971221189</td>\n      <td>747747</td>\n      <td>6.77</td>\n    </tr>\n  </tbody>\n</table>\n<p>624 rows × 5 columns</p>\n</div>"
     },
     "execution_count": 34,
     "metadata": {},
     "output_type": "execute_result"
    }
   ],
   "source": [
    "df_industrial"
   ],
   "metadata": {
    "collapsed": false,
    "ExecuteTime": {
     "end_time": "2023-12-05T02:10:09.430390Z",
     "start_time": "2023-12-05T02:10:09.418518Z"
    }
   },
   "id": "f1ac0359adbb6ca3"
  },
  {
   "cell_type": "code",
   "execution_count": null,
   "outputs": [],
   "source": [],
   "metadata": {
    "collapsed": false
   },
   "id": "71506ca0c28fb439"
  }
 ],
 "metadata": {
  "kernelspec": {
   "display_name": "Python 3",
   "language": "python",
   "name": "python3"
  },
  "language_info": {
   "codemirror_mode": {
    "name": "ipython",
    "version": 2
   },
   "file_extension": ".py",
   "mimetype": "text/x-python",
   "name": "python",
   "nbconvert_exporter": "python",
   "pygments_lexer": "ipython2",
   "version": "2.7.6"
  }
 },
 "nbformat": 4,
 "nbformat_minor": 5
}
