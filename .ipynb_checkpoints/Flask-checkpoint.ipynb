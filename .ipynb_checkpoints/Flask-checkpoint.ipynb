{
 "cells": [
  {
   "cell_type": "code",
   "execution_count": null,
   "id": "46952bf0",
   "metadata": {},
   "outputs": [],
   "source": [
    "# Import the dependencies\n",
    "import psycopg2\n",
    "import os\n",
    "import sqlalchemy\n",
    "from sqlalchemy import create_engine, func, inspect, text, Column, Integer, String\n",
    "from sqlalchemy.ext.declarative import declarative_base, automap_base\n",
    "from sqlalchemy.orm import Session\n",
    "\n"
   ]
  },
  {
   "cell_type": "code",
   "execution_count": null,
   "id": "dcb4f8d1",
   "metadata": {},
   "outputs": [],
   "source": [
    "# create engine to regress database \"project 3\"\n",
    "engine = create_engine(\"sqlite:///Resources/hawaii.sqlite\")\n",
    "conn = engine.connect()"
   ]
  },
  {
   "cell_type": "code",
   "execution_count": null,
   "id": "6b19d0e5",
   "metadata": {},
   "outputs": [],
   "source": [
    "# Create a base class for declarating class definitions to produce Table objects\n",
    "Base = declarative_base()"
   ]
  },
  {
   "cell_type": "code",
   "execution_count": null,
   "id": "2b7b14c6",
   "metadata": {},
   "outputs": [],
   "source": [
    "# Define our tables\n",
    "class keys(Base):\n",
    "    __tablename__ = 'keys'\n",
    "    id = Column(String, primary_key=True)\n",
    "    year = Column(Integer)\n",
    "    state = Column(String)\n",
    "    "
   ]
  }
 ],
 "metadata": {
  "kernelspec": {
   "display_name": "Python 3 (ipykernel)",
   "language": "python",
   "name": "python3"
  },
  "language_info": {
   "codemirror_mode": {
    "name": "ipython",
    "version": 3
   },
   "file_extension": ".py",
   "mimetype": "text/x-python",
   "name": "python",
   "nbconvert_exporter": "python",
   "pygments_lexer": "ipython3",
   "version": "3.11.5"
  }
 },
 "nbformat": 4,
 "nbformat_minor": 5
}
