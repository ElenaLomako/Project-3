{
 "cells": [
  {
   "cell_type": "code",
   "execution_count": 4,
   "id": "05103cde",
   "metadata": {},
   "outputs": [
    {
     "name": "stdout",
     "output_type": "stream",
     "text": [
      "Automap found the following classes:\n",
      "keys\n",
      "residential\n",
      "commercial\n",
      "industrial\n",
      "transportation\n",
      "total\n"
     ]
    }
   ],
   "source": [
    "from sqlalchemy import create_engine\n",
    "from sqlalchemy.ext.automap import automap_base\n",
    "\n",
    "# Database connection parameters\n",
    "db_params = {\n",
    "    'host': 'localhost',\n",
    "    'port': '5432',\n",
    "    'user': 'postgres',\n",
    "    'password': 'postgres',\n",
    "    'database': 'project 3',\n",
    "}\n",
    "\n",
    "# Create a SQLAlchemy engine\n",
    "engine = create_engine(f\"postgresql://{db_params['user']}:{db_params['password']}@{db_params['host']}:{db_params['port']}/{db_params['database']}\")\n",
    "\n",
    "# Reflect the database tables into SQLAlchemy ORM\n",
    "Base = automap_base()\n",
    "Base.prepare(engine, reflect=True)\n",
    "\n",
    "# Print all the classes found by automap\n",
    "print(\"Automap found the following classes:\")\n",
    "for class_name in Base.classes.keys():\n",
    "    print(class_name)\n"
   ]
  },
  {
   "cell_type": "code",
   "execution_count": 5,
   "id": "664eefbb",
   "metadata": {},
   "outputs": [
    {
     "data": {
      "text/plain": [
       "['keys', 'residential', 'commercial', 'industrial', 'transportation', 'total']"
      ]
     },
     "execution_count": 5,
     "metadata": {},
     "output_type": "execute_result"
    }
   ],
   "source": [
    "Base.classes.keys()"
   ]
  },
  {
   "cell_type": "code",
   "execution_count": 6,
   "id": "15cac67c",
   "metadata": {},
   "outputs": [
    {
     "name": "stderr",
     "output_type": "stream",
     "text": [
      "/var/folders/jb/dhbk72314lb_4ljg_04gr0qr0000gn/T/ipykernel_44937/4162273999.py:1: SADeprecationWarning: The Engine.table_names() method is deprecated and will be removed in a future release.  Please refer to Inspector.get_table_names(). (deprecated since: 1.4)\n",
      "  engine.table_names()\n"
     ]
    },
    {
     "data": {
      "text/plain": [
       "['keys', 'residential', 'commercial', 'industrial', 'transportation', 'total']"
      ]
     },
     "execution_count": 6,
     "metadata": {},
     "output_type": "execute_result"
    }
   ],
   "source": [
    "#engine.table_names()"
   ]
  },
  {
   "cell_type": "code",
   "execution_count": 7,
   "id": "f2d2241a",
   "metadata": {},
   "outputs": [],
   "source": [
    "# Save references to each table\n",
    "Keys = Base.classes.keys\n",
    "Residential = Base.classes.residential\n",
    "Commercial = Base.classes.commercial\n",
    "Industrial = Base.classes.industrial\n",
    "Transportation = Base.classes.transportation\n",
    "Total = Base.classes.total    "
   ]
  },
  {
   "cell_type": "code",
   "execution_count": null,
   "id": "b7e33671",
   "metadata": {},
   "outputs": [],
   "source": []
  }
 ],
 "metadata": {
  "kernelspec": {
   "display_name": "Python 3 (ipykernel)",
   "language": "python",
   "name": "python3"
  },
  "language_info": {
   "codemirror_mode": {
    "name": "ipython",
    "version": 3
   },
   "file_extension": ".py",
   "mimetype": "text/x-python",
   "name": "python",
   "nbconvert_exporter": "python",
   "pygments_lexer": "ipython3",
   "version": "3.11.5"
  }
 },
 "nbformat": 4,
 "nbformat_minor": 5
}
